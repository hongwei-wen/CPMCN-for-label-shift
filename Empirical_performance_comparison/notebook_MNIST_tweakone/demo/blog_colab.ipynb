{
  "nbformat": 4,
  "nbformat_minor": 0,
  "metadata": {
    "kernelspec": {
      "name": "python3",
      "display_name": "Python 3"
    },
    "colab": {
      "name": "blog_colab.ipynb",
      "provenance": [],
      "toc_visible": true,
      "include_colab_link": true
    }
  },
  "cells": [
    {
      "cell_type": "markdown",
      "metadata": {
        "id": "view-in-github",
        "colab_type": "text"
      },
      "source": [
        "<a href=\"https://colab.research.google.com/github/kundajelab/labelshiftexperiments/blob/master/notebooks/demo/blog_colab.ipynb\" target=\"_parent\"><img src=\"https://colab.research.google.com/assets/colab-badge.svg\" alt=\"Open In Colab\"/></a>"
      ]
    },
    {
      "cell_type": "markdown",
      "metadata": {
        "id": "MEGggxiZWf1R"
      },
      "source": [
        "## Maximum Likelihood + Bias-Corrected Temperature Scaling\n",
        "\n",
        "This notebook demonstrates how to perform label shift domain adaptation using "
      ]
    },
    {
      "cell_type": "markdown",
      "metadata": {
        "id": "WDSQi_3fzlnj"
      },
      "source": [
        "### Setup\n",
        "\n",
        "Download the datasets"
      ]
    },
    {
      "cell_type": "code",
      "metadata": {
        "id": "lFPf85JSWOfc",
        "colab": {
          "base_uri": "https://localhost:8080/"
        },
        "outputId": "bf526096-d0c5-4a62-f3f3-737dd3bdb12e"
      },
      "source": [
        "!wget https://raw.github.com/kundajelab/labelshiftexperiments/master/notebooks/demo/demo_valid_labels.txt.gz -O demo_valid_labels.txt.gz\n",
        "!wget https://raw.github.com/kundajelab/labelshiftexperiments/master/notebooks/demo/demo_shifted_test_preds.txt.gz -O demo_shifted_test_preds.txt.gz\n",
        "!wget https://raw.github.com/kundajelab/labelshiftexperiments/master/notebooks/demo/demo_valid_preds.txt.gz -O demo_valid_preds.txt.gz"
      ],
      "execution_count": 1,
      "outputs": [
        {
          "output_type": "stream",
          "text": [
            "--2020-11-22 02:56:31--  https://raw.github.com/kundajelab/labelshiftexperiments/master/notebooks/demo/demo_valid_labels.txt.gz\n",
            "Resolving raw.github.com (raw.github.com)... 151.101.0.133, 151.101.64.133, 151.101.128.133, ...\n",
            "Connecting to raw.github.com (raw.github.com)|151.101.0.133|:443... connected.\n",
            "HTTP request sent, awaiting response... 301 Moved Permanently\n",
            "Location: https://raw.githubusercontent.com/kundajelab/labelshiftexperiments/master/notebooks/demo/demo_valid_labels.txt.gz [following]\n",
            "--2020-11-22 02:56:31--  https://raw.githubusercontent.com/kundajelab/labelshiftexperiments/master/notebooks/demo/demo_valid_labels.txt.gz\n",
            "Resolving raw.githubusercontent.com (raw.githubusercontent.com)... 151.101.0.133, 151.101.64.133, 151.101.128.133, ...\n",
            "Connecting to raw.githubusercontent.com (raw.githubusercontent.com)|151.101.0.133|:443... connected.\n",
            "HTTP request sent, awaiting response... 200 OK\n",
            "Length: 5969 (5.8K) [application/octet-stream]\n",
            "Saving to: ‘demo_valid_labels.txt.gz’\n",
            "\n",
            "demo_valid_labels.t 100%[===================>]   5.83K  --.-KB/s    in 0s      \n",
            "\n",
            "2020-11-22 02:56:31 (51.0 MB/s) - ‘demo_valid_labels.txt.gz’ saved [5969/5969]\n",
            "\n",
            "--2020-11-22 02:56:31--  https://raw.github.com/kundajelab/labelshiftexperiments/master/notebooks/demo/demo_shifted_test_preds.txt.gz\n",
            "Resolving raw.github.com (raw.github.com)... 151.101.0.133, 151.101.64.133, 151.101.128.133, ...\n",
            "Connecting to raw.github.com (raw.github.com)|151.101.0.133|:443... connected.\n",
            "HTTP request sent, awaiting response... 301 Moved Permanently\n",
            "Location: https://raw.githubusercontent.com/kundajelab/labelshiftexperiments/master/notebooks/demo/demo_shifted_test_preds.txt.gz [following]\n",
            "--2020-11-22 02:56:32--  https://raw.githubusercontent.com/kundajelab/labelshiftexperiments/master/notebooks/demo/demo_shifted_test_preds.txt.gz\n",
            "Resolving raw.githubusercontent.com (raw.githubusercontent.com)... 151.101.0.133, 151.101.64.133, 151.101.128.133, ...\n",
            "Connecting to raw.githubusercontent.com (raw.githubusercontent.com)|151.101.0.133|:443... connected.\n",
            "HTTP request sent, awaiting response... 200 OK\n",
            "Length: 85108 (83K) [application/octet-stream]\n",
            "Saving to: ‘demo_shifted_test_preds.txt.gz’\n",
            "\n",
            "demo_shifted_test_p 100%[===================>]  83.11K  --.-KB/s    in 0.02s   \n",
            "\n",
            "2020-11-22 02:56:32 (3.85 MB/s) - ‘demo_shifted_test_preds.txt.gz’ saved [85108/85108]\n",
            "\n",
            "--2020-11-22 02:56:32--  https://raw.github.com/kundajelab/labelshiftexperiments/master/notebooks/demo/demo_valid_preds.txt.gz\n",
            "Resolving raw.github.com (raw.github.com)... 151.101.0.133, 151.101.64.133, 151.101.128.133, ...\n",
            "Connecting to raw.github.com (raw.github.com)|151.101.0.133|:443... connected.\n",
            "HTTP request sent, awaiting response... 301 Moved Permanently\n",
            "Location: https://raw.githubusercontent.com/kundajelab/labelshiftexperiments/master/notebooks/demo/demo_valid_preds.txt.gz [following]\n",
            "--2020-11-22 02:56:32--  https://raw.githubusercontent.com/kundajelab/labelshiftexperiments/master/notebooks/demo/demo_valid_preds.txt.gz\n",
            "Resolving raw.githubusercontent.com (raw.githubusercontent.com)... 151.101.0.133, 151.101.64.133, 151.101.128.133, ...\n",
            "Connecting to raw.githubusercontent.com (raw.githubusercontent.com)|151.101.0.133|:443... connected.\n",
            "HTTP request sent, awaiting response... 200 OK\n",
            "Length: 959677 (937K) [application/octet-stream]\n",
            "Saving to: ‘demo_valid_preds.txt.gz’\n",
            "\n",
            "demo_valid_preds.tx 100%[===================>] 937.18K  --.-KB/s    in 0.06s   \n",
            "\n",
            "2020-11-22 02:56:33 (16.4 MB/s) - ‘demo_valid_preds.txt.gz’ saved [959677/959677]\n",
            "\n"
          ],
          "name": "stdout"
        }
      ]
    },
    {
      "cell_type": "markdown",
      "metadata": {
        "id": "toUqiI6MXvVh"
      },
      "source": [
        "Install the necessary package"
      ]
    },
    {
      "cell_type": "code",
      "metadata": {
        "colab": {
          "base_uri": "https://localhost:8080/"
        },
        "id": "MTr1k2e-Xwym",
        "outputId": "e2d6bc2f-5e88-4d77-d574-0b1875efbe8a"
      },
      "source": [
        "!pip install abstention"
      ],
      "execution_count": 2,
      "outputs": [
        {
          "output_type": "stream",
          "text": [
            "Collecting abstention\n",
            "  Downloading https://files.pythonhosted.org/packages/c2/cb/b9a4ef4a0efecf1ac74fc12a459f05d17dc76ebba9c9ee1c62b9d651bb18/abstention-0.1.3.1.tar.gz\n",
            "Requirement already satisfied: numpy>=1.9 in /usr/local/lib/python3.6/dist-packages (from abstention) (1.18.5)\n",
            "Requirement already satisfied: scikit-learn>=0.20.0 in /usr/local/lib/python3.6/dist-packages (from abstention) (0.22.2.post1)\n",
            "Requirement already satisfied: scipy>=1.1.0 in /usr/local/lib/python3.6/dist-packages (from abstention) (1.4.1)\n",
            "Requirement already satisfied: joblib>=0.11 in /usr/local/lib/python3.6/dist-packages (from scikit-learn>=0.20.0->abstention) (0.17.0)\n",
            "Building wheels for collected packages: abstention\n",
            "  Building wheel for abstention (setup.py) ... \u001b[?25l\u001b[?25hdone\n",
            "  Created wheel for abstention: filename=abstention-0.1.3.1-cp36-none-any.whl size=25470 sha256=f16debecbfdee13d197c22ed52c9a349d2bb8822780917b58c1f7741e5f9de71\n",
            "  Stored in directory: /root/.cache/pip/wheels/7c/a8/fc/5ddf92c0e5934d70543ea30142078287d911f01e75cffb808c\n",
            "Successfully built abstention\n",
            "Installing collected packages: abstention\n",
            "Successfully installed abstention-0.1.3.1\n"
          ],
          "name": "stdout"
        }
      ]
    },
    {
      "cell_type": "markdown",
      "metadata": {
        "id": "Q2QqBu8Uy8D9"
      },
      "source": [
        "Import relevant modules and define functions for reading in the data"
      ]
    },
    {
      "cell_type": "code",
      "metadata": {
        "id": "n3U_XH8bWOfc"
      },
      "source": [
        "import gzip\n",
        "import numpy as np\n",
        "from collections import defaultdict\n",
        "from scipy.special import softmax\n",
        "\n",
        "def read_labels(fh):\n",
        "    to_return = []\n",
        "    for line in fh:\n",
        "        the_class=int(line.rstrip())\n",
        "        to_add = np.zeros(10)\n",
        "        to_add[the_class] = 1\n",
        "        to_return.append(to_add)\n",
        "    return np.array(to_return)\n",
        "\n",
        "def read_preds(fh):\n",
        "    return np.array([[float(x) for x in y.decode(\"utf-8\").rstrip().split(\"\\t\")]\n",
        "                     for y in fh])"
      ],
      "execution_count": 3,
      "outputs": []
    },
    {
      "cell_type": "markdown",
      "metadata": {
        "id": "OBEvqeu84Ll3"
      },
      "source": [
        "Read in the validation set predictions and labels, as well as the predictions on the (label shifted) test set"
      ]
    },
    {
      "cell_type": "code",
      "metadata": {
        "id": "tGqi1Xub4OS_"
      },
      "source": [
        "valid_labels = read_labels(gzip.open(\"demo_valid_labels.txt.gz\", \"rb\"))\n",
        "valid_preds = read_preds(gzip.open(\"demo_valid_preds.txt.gz\", \"rb\"))\n",
        "shifted_test_preds = read_preds(gzip.open(\"demo_shifted_test_preds.txt.gz\", \"rb\"))"
      ],
      "execution_count": 4,
      "outputs": []
    },
    {
      "cell_type": "markdown",
      "metadata": {
        "id": "WvsUpsRHznpJ"
      },
      "source": [
        "### Perform label shift adaptation\n",
        "\n",
        "Apply Maximum Likelihood + BCTS"
      ]
    },
    {
      "cell_type": "code",
      "metadata": {
        "id": "QA8EnUvcWOfd"
      },
      "source": [
        "from abstention.calibration import TempScaling\n",
        "from abstention.label_shift import EMImbalanceAdapter\n",
        "\n",
        "#Instantiate the BCTS calibrator factory\n",
        "bcts_calibrator_factory = TempScaling(verbose=False, bias_positions='all')\n",
        "#Specify that we would like to use Maximum Likelihood (EM) for the\n",
        "# label shift adaptation, with BCTS for calibration\n",
        "imbalance_adapter = EMImbalanceAdapter(calibrator_factory=\n",
        "                                       bcts_calibrator_factory)\n",
        "#Get the function that will do the label shift adaptation (creating this\n",
        "# function requires supplying the validation set labels/predictions as well as\n",
        "# the test-set predictions)\n",
        "imbalance_adapter_func = imbalance_adapter(valid_labels=valid_labels,\n",
        "                          tofit_initial_posterior_probs=shifted_test_preds,\n",
        "                          valid_posterior_probs=valid_preds)\n",
        "#Get the adapted test-set predictions\n",
        "adapted_shifted_test_preds = imbalance_adapter_func(shifted_test_preds)"
      ],
      "execution_count": 5,
      "outputs": []
    },
    {
      "cell_type": "markdown",
      "metadata": {
        "id": "xdVWdeSmz1RB"
      },
      "source": [
        "### Evaluation\n",
        "\n",
        "Download and read in the labels for the test set\n"
      ]
    },
    {
      "cell_type": "code",
      "metadata": {
        "id": "LtrgofVa0mbL",
        "colab": {
          "base_uri": "https://localhost:8080/"
        },
        "outputId": "4f33a5d4-98af-44cb-c2d7-378b974e5d3d"
      },
      "source": [
        "!wget https://raw.github.com/kundajelab/labelshiftexperiments/master/notebooks/demo/demo_shifted_test_labels.txt.gz -O demo_shifted_test_labels.txt.gz\n",
        "\n",
        "shifted_test_labels = read_labels(gzip.open(\"demo_shifted_test_labels.txt.gz\", \"rb\"))"
      ],
      "execution_count": 6,
      "outputs": [
        {
          "output_type": "stream",
          "text": [
            "--2020-11-22 02:56:39--  https://raw.github.com/kundajelab/labelshiftexperiments/master/notebooks/demo/demo_shifted_test_labels.txt.gz\n",
            "Resolving raw.github.com (raw.github.com)... 151.101.0.133, 151.101.64.133, 151.101.128.133, ...\n",
            "Connecting to raw.github.com (raw.github.com)|151.101.0.133|:443... connected.\n",
            "HTTP request sent, awaiting response... 301 Moved Permanently\n",
            "Location: https://raw.githubusercontent.com/kundajelab/labelshiftexperiments/master/notebooks/demo/demo_shifted_test_labels.txt.gz [following]\n",
            "--2020-11-22 02:56:40--  https://raw.githubusercontent.com/kundajelab/labelshiftexperiments/master/notebooks/demo/demo_shifted_test_labels.txt.gz\n",
            "Resolving raw.githubusercontent.com (raw.githubusercontent.com)... 151.101.0.133, 151.101.64.133, 151.101.128.133, ...\n",
            "Connecting to raw.githubusercontent.com (raw.githubusercontent.com)|151.101.0.133|:443... connected.\n",
            "HTTP request sent, awaiting response... 200 OK\n",
            "Length: 71 [application/octet-stream]\n",
            "Saving to: ‘demo_shifted_test_labels.txt.gz’\n",
            "\n",
            "demo_shifted_test_l 100%[===================>]      71  --.-KB/s    in 0s      \n",
            "\n",
            "2020-11-22 02:56:40 (3.35 MB/s) - ‘demo_shifted_test_labels.txt.gz’ saved [71/71]\n",
            "\n"
          ],
          "name": "stdout"
        }
      ]
    },
    {
      "cell_type": "markdown",
      "metadata": {
        "id": "1l6uFuwf0pGr"
      },
      "source": [
        "Evaluate the improvement in performance due to domain adaptation"
      ]
    },
    {
      "cell_type": "code",
      "metadata": {
        "colab": {
          "base_uri": "https://localhost:8080/"
        },
        "id": "4zsm221-WOfd",
        "outputId": "e4d9b95d-69f2-47ff-8201-d845c11a81a5"
      },
      "source": [
        "#Get the test set accuracy WITHOUT label shift adaptation\n",
        "unadapted_test_accuracy = np.mean(np.argmax(shifted_test_labels,axis=-1)==np.argmax(shifted_test_preds,axis=-1))\n",
        "#Get the test-set accuracy WITH label shift adaptation\n",
        "adapted_test_accuracy = np.mean(np.argmax(shifted_test_labels,axis=-1)==np.argmax(adapted_shifted_test_preds,axis=-1))\n",
        "\n",
        "print(\"Accuracy without label shift adaptation:\", unadapted_test_accuracy)\n",
        "print(\"Accuracy with label shift adaptation:\", adapted_test_accuracy)"
      ],
      "execution_count": 7,
      "outputs": [
        {
          "output_type": "stream",
          "text": [
            "Accuracy without label shift adaptation: 0.707\n",
            "Accuracy with label shift adaptation: 0.986\n"
          ],
          "name": "stdout"
        }
      ]
    },
    {
      "cell_type": "markdown",
      "metadata": {
        "id": "ncoOivjZqMl4"
      },
      "source": [
        "## Misc\n",
        "\n",
        "This is the code that was used to generate the `demo_*` files\n",
        "\n",
        "```\n",
        "import gzip\n",
        "import glob\n",
        "import numpy as np\n",
        "from collections import defaultdict\n",
        "from scipy.special import softmax\n",
        "\n",
        "\n",
        "def sample_from_probs_arr(arr_with_probs):\n",
        "    rand_num = np.random.random()\n",
        "    cdf_so_far = 0\n",
        "    for (idx, prob) in enumerate(arr_with_probs):\n",
        "        cdf_so_far += prob\n",
        "        if (cdf_so_far >= rand_num\n",
        "            or idx == (len(arr_with_probs) - 1)):  # need the\n",
        "            # letterIdx==(len(row)-1) clause because of potential floating point errors\n",
        "            # that mean arrWithProbs doesn't sum to 1\n",
        "            return idx\n",
        "\n",
        "\n",
        "def draw_test_indices(total_to_return, label_proportions):\n",
        "    indices_to_use = []\n",
        "    for class_index, class_proportion in enumerate(label_proportions):\n",
        "        indices_to_use.extend(np.random.choice(\n",
        "                TEST_CLASS_TO_INDICES[class_index],\n",
        "                int(total_to_return*class_proportion),\n",
        "                replace=True))\n",
        "    for i in range(total_to_return-len(indices_to_use)):\n",
        "        class_index = sample_from_probs_arr(label_proportions)\n",
        "        indices_to_use.append(\n",
        "            np.random.choice(TEST_CLASS_TO_INDICES[class_index]))\n",
        "    return indices_to_use\n",
        "\n",
        "\n",
        "def write_preds(preds, filename):\n",
        "  f = open(filename,'w')\n",
        "  for pred in preds:\n",
        "    f.write(\"\\t\".join([str(x) for x in pred])+\"\\n\") \n",
        "  f.close()\n",
        "\n",
        "\n",
        "def write_labels(labels, filename):\n",
        "  f = open(filename,'w')\n",
        "  f.write(\"\\n\".join([str(np.argmax(x, axis=-1)) for x in labels]))\n",
        "  f.close()\n",
        "\n",
        "\n",
        "def read_labels(fh):\n",
        "    to_return = []\n",
        "    for line in fh:\n",
        "        the_class=int(line.rstrip())\n",
        "        to_add = np.zeros(10)\n",
        "        to_add[the_class] = 1\n",
        "        to_return.append(to_add)\n",
        "    return np.array(to_return)\n",
        "\n",
        "\n",
        "def read_preds(fh):\n",
        "    return np.array([[float(x) for x in y.decode(\"utf-8\").rstrip().split(\"\\t\")]\n",
        "                     for y in fh])\n",
        "\n",
        "\n",
        "!wget https://zenodo.org/record/3406662/files/test_labels.txt.gz?download?=1 -O test_labels.txt.gz\n",
        "!wget https://zenodo.org/record/3406662/files/testpreacts_model_cifar10_balanced_seed-0_bestbefore-100_currentepoch-100_valacc-91_vgg.txt.gz?download=1 -O testpreacts_model_cifar10_balanced_seed-0_bestbefore-100_currentepoch-100_valacc-91_vgg.txt.gz\n",
        "!wget https://zenodo.org/record/3406662/files/validpreacts_model_cifar10_balanced_seed-0_bestbefore-100_currentepoch-100_valacc-91_vgg.txt.gz?download=1 -O validpreacts_model_cifar10_balanced_seed-0_bestbefore-100_currentepoch-100_valacc-91_vgg.txt.gz\n",
        "!wget https://zenodo.org/record/3406662/files/valid_labels.txt.gz?download?=1 -O demo_valid_labels.txt.gz\n",
        "\n",
        "\n",
        "test_labels = read_labels(gzip.open(\"test_labels.txt.gz\"))\n",
        "test_preds = softmax(read_preds(gzip.open(\n",
        "  \"testpreacts_model_cifar10_balanced_seed-0_bestbefore-100_currentepoch-100_valacc-91_vgg.txt.gz\")),\n",
        "                       axis=1)\n",
        "valid_preds = softmax(read_preds(gzip.open(\n",
        "    \"validpreacts_model_cifar10_balanced_seed-0_bestbefore-100_currentepoch-100_valacc-91_vgg.txt.gz\")),\n",
        "                      axis=1)\n",
        "\n",
        "\n",
        "dirichlet_alpha = 0.1\n",
        "samplesize = 1000\n",
        "dirichlet_dist = np.random.RandomState(123).dirichlet(\n",
        "                  [dirichlet_alpha for x in range(10)])\n",
        "\n",
        "TEST_CLASS_TO_INDICES = defaultdict(list)\n",
        "for index,row in enumerate(test_labels):\n",
        "    row_label = np.argmax(row)\n",
        "    TEST_CLASS_TO_INDICES[row_label].append(index)\n",
        "\n",
        "test_indices = draw_test_indices(total_to_return=samplesize,\n",
        "                                 label_proportions=dirichlet_dist)\n",
        "shifted_test_labels = test_labels[test_indices]\n",
        "shifted_test_preds = test_preds[test_indices]\n",
        "\n",
        "write_preds(preds=valid_preds, filename=\"demo_valid_preds.txt\")\n",
        "write_preds(preds=shifted_test_preds, filename=\"demo_shifted_test_preds.txt\")\n",
        "write_labels(labels=shifted_test_labels, filename=\"demo_shifted_test_labels.txt\")\n",
        "!gzip -f *.txt\n",
        "```\n",
        "\n"
      ]
    }
  ]
}